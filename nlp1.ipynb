{
  "nbformat": 4,
  "nbformat_minor": 0,
  "metadata": {
    "colab": {
      "provenance": []
    },
    "kernelspec": {
      "name": "python3",
      "display_name": "Python 3"
    },
    "language_info": {
      "name": "python"
    }
  },
  "cells": [
    {
      "cell_type": "code",
      "execution_count": 2,
      "metadata": {
        "colab": {
          "base_uri": "https://localhost:8080/"
        },
        "id": "Vx8hZPZnDd-Y",
        "outputId": "7a95cf97-6883-4f05-9cce-538787064c66"
      },
      "outputs": [
        {
          "output_type": "stream",
          "name": "stdout",
          "text": [
            "Unigrams:\n",
            "['this', 'is', 'a', 'sample', 'text', 'corpus', 'for', 'testing', 'bigram', 'and', 'trigram', 'probabilities', '.', 'simple']\n",
            "\n",
            "Bigrams:\n",
            "[('this', 'is'), ('is', 'a'), ('a', 'sample'), ('sample', 'text'), ('text', 'corpus'), ('corpus', 'for'), ('for', 'testing'), ('testing', 'bigram'), ('bigram', 'and'), ('and', 'trigram'), ('trigram', 'probabilities'), ('probabilities', '.'), ('.', 'this'), ('this', 'sample'), ('sample', 'text'), ('text', 'is'), ('is', 'simple'), ('simple', '.')]\n",
            "\n",
            "Trigrams:\n",
            "[('this', 'is', 'a'), ('is', 'a', 'sample'), ('a', 'sample', 'text'), ('sample', 'text', 'corpus'), ('text', 'corpus', 'for'), ('corpus', 'for', 'testing'), ('for', 'testing', 'bigram'), ('testing', 'bigram', 'and'), ('bigram', 'and', 'trigram'), ('and', 'trigram', 'probabilities'), ('trigram', 'probabilities', '.'), ('probabilities', '.', 'this'), ('.', 'this', 'sample'), ('this', 'sample', 'text'), ('sample', 'text', 'is'), ('text', 'is', 'simple'), ('is', 'simple', '.')]\n",
            "\n",
            "Bigram Probabilities:\n",
            "P(is|this) = 0.0714\n",
            "P(a|is) = 0.0714\n",
            "P(sample|a) = 0.0714\n",
            "P(text|sample) = 0.1429\n",
            "P(corpus|text) = 0.0714\n",
            "P(for|corpus) = 0.0714\n",
            "P(testing|for) = 0.0714\n",
            "P(bigram|testing) = 0.0714\n",
            "P(and|bigram) = 0.0714\n",
            "P(trigram|and) = 0.0714\n",
            "P(probabilities|trigram) = 0.0714\n",
            "P(.|probabilities) = 0.0714\n",
            "P(this|.) = 0.0714\n",
            "P(sample|this) = 0.0714\n",
            "P(is|text) = 0.0714\n",
            "P(simple|is) = 0.0714\n",
            "P(.|simple) = 0.0714\n",
            "\n",
            "Next Word Predictions:\n",
            "this: ['is', 'sample']\n",
            "is: ['a', 'simple']\n",
            "a: ['sample']\n",
            "sample: ['text']\n",
            "text: ['corpus', 'is']\n",
            "corpus: ['for']\n",
            "for: ['testing']\n",
            "testing: ['bigram']\n",
            "bigram: ['and']\n",
            "and: ['trigram']\n",
            "trigram: ['probabilities']\n",
            "probabilities: ['.']\n",
            ".: ['this']\n",
            "simple: ['.']\n"
          ]
        },
        {
          "output_type": "stream",
          "name": "stderr",
          "text": [
            "[nltk_data] Downloading package punkt to /root/nltk_data...\n",
            "[nltk_data]   Package punkt is already up-to-date!\n"
          ]
        }
      ],
      "source": [
        "import nltk\n",
        "from nltk import word_tokenize, bigrams, trigrams\n",
        "from nltk.probability import FreqDist, ConditionalFreqDist\n",
        "nltk.download('punkt')\n",
        "text = \"This is a sample text corpus for testing bigram and trigram probabilities. This sample text is simple.\"\n",
        "tokens = word_tokenize(text.lower())\n",
        "unigrams = list(FreqDist(tokens).keys())\n",
        "print(\"Unigrams:\")\n",
        "print(unigrams)\n",
        "bi_grams = list(bigrams(tokens))\n",
        "print(\"\\nBigrams:\")\n",
        "print(bi_grams)\n",
        "tri_grams = list(trigrams(tokens))\n",
        "print(\"\\nTrigrams:\")\n",
        "print(tri_grams)\n",
        "bigram_freqs = FreqDist(bi_grams)\n",
        "bigram_cfd = ConditionalFreqDist(bi_grams)\n",
        "print(\"\\nBigram Probabilities:\")\n",
        "for (w1, w2), freq in bigram_freqs.items():\n",
        "    prob = freq / (bigram_freqs[(w1,)]+len(unigrams))\n",
        "    print(f\"P({w2}|{w1}) = {prob:.4f}\")\n",
        "def predict_next_word(current_word):\n",
        "    next_word_probs = bigram_cfd[current_word]\n",
        "    if not next_word_probs:\n",
        "        return \"No predictions available.\"\n",
        "    predicted_words = sorted(next_word_probs.items(), key=lambda x: -x[1])\n",
        "    return predicted_words\n",
        "\n",
        "print(\"\\nNext Word Predictions:\")\n",
        "for word in unigrams:\n",
        "    predictions = predict_next_word(word)\n",
        "    if predictions != \"No predictions available.\":\n",
        "        print(f\"{word}: {[w for w, _ in predictions[:3]]}\")\n",
        "    else:\n",
        "        print(f\"{word}: {predictions}\")\n"
      ]
    }
  ]
}